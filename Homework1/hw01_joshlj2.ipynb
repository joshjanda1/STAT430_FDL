{
  "nbformat": 4,
  "nbformat_minor": 0,
  "metadata": {
    "colab": {
      "name": "hw01-joshlj2.ipynb",
      "provenance": [],
      "collapsed_sections": [],
      "toc_visible": true
    },
    "kernelspec": {
      "name": "python3",
      "display_name": "Python 3"
    }
  },
  "cells": [
    {
      "cell_type": "markdown",
      "metadata": {
        "id": "pQV4FWMwCLvx",
        "colab_type": "text"
      },
      "source": [
        "# Overview \n",
        "\n",
        "Please see the [homework policy](https://fdl.thecoatlessprofessor.com/syllabus/#homework)\n",
        "for detailed instructions and some grading notes. Failure to follow instructions\n",
        "will result in point reductions. In particular, make sure to commit each \n",
        "exercise as you complete them. \n",
        "\n",
        "> \"The future depends on some graduate student who is deeply suspicious of everything I have said.\"\n",
        "> \n",
        "> -- Geoffrey Hinton (One of Deep Learning's Godfathers)\n",
        "\n",
        "## Grading\n",
        "\n",
        "The rubric CAs will use to grade this assignment is:\n",
        "\n",
        "| Task                                                   | Pts |\n",
        "|:-------------------------------------------------------|----:|\n",
        "| Homework Policy                                        | 2   |\n",
        "| Splitting the Bill                                     | 10  |\n",
        "| I _vant_ to _manually_ read your data                  | 5   |\n",
        "| Excellency at UIUC                                     | 20  |\n",
        "| Total                                                  | 37  |\n",
        "\n",
        "\n",
        "## Objectives \n",
        "\n",
        "The objectives behind this homework assignment are as follows:\n",
        "\n",
        "- Implement functions in Python;\n",
        "- Loading CSV data;\n",
        "- Manipulating data; and,\n",
        "- Visualizing Data.\n",
        "\n",
        "# Assignment - Homework 1\n",
        "STAT 430 - FDL, Spring 2020\n",
        "\n",
        "Due: **Friday, February 7th, 2020 at 6:00 PM**\n",
        "\n",
        "- **Author:** Josh Janda\n",
        "- **NetID:** joshlj2\n"
      ]
    },
    {
      "cell_type": "markdown",
      "metadata": {
        "id": "Ppd8jjCSDU_4",
        "colab_type": "text"
      },
      "source": [
        "### Collaborators\n",
        "\n",
        "If you worked with any other student in preparing these answers, please\n",
        "make sure to list their full names and NetIDs (e.g. `FirstName LastName (NetID)` ).\n"
      ]
    },
    {
      "cell_type": "code",
      "metadata": {
        "id": "9x_WVlS5m2Ue",
        "colab_type": "code",
        "outputId": "3c5cf85f-172a-42f1-d043-8090d7c374fa",
        "colab": {
          "base_uri": "https://localhost:8080/",
          "height": 102
        }
      },
      "source": [
        "print(\"Diagnostics: \")\n",
        "\n",
        "try:\n",
        "  from google.colab import drive\n",
        "  is_google_colab = True\n",
        "  import sys\n",
        "  import pandas as pd\n",
        "  import numpy as np\n",
        "\n",
        "  print(f\"python: {sys.version}\")\n",
        "  print(f\"pandas: {np.__version__}\")\n",
        "  print(\"Notebook is on Google CoLab\")\n",
        "except:\n",
        "  is_google_colab = False\n",
        "  print(\"Notebook is begin run locally or through another source.\")\n",
        "\n",
        "\n"
      ],
      "execution_count": 1,
      "outputs": [
        {
          "output_type": "stream",
          "text": [
            "Diagnostics: \n",
            "python: 3.6.9 (default, Nov  7 2019, 10:44:02) \n",
            "[GCC 8.3.0]\n",
            "pandas: 1.17.5\n",
            "Notebook is on Google CoLab\n"
          ],
          "name": "stdout"
        }
      ]
    },
    {
      "cell_type": "markdown",
      "metadata": {
        "id": "gmNZXZx-DZnJ",
        "colab_type": "text"
      },
      "source": [
        "## [2 points] Exercise 1: Homework Policy\n",
        "\n",
        "Please uncomment the following statement when you have read and agreed\n",
        "to the [homework policy](https://fdl.thecoatlessprofessor.com/syllabus/#homework/).\n",
        "To _uncomment_ a statement in _text cell_, double click the _text cell_ and remove the `<!-- -->` surrounding the content.\n",
        "\n",
        "\n",
        "I have read and agree to abide by the policies and procedures laid \n",
        "out by the [homework policy](https://fdl.thecoatlessprofessor.com/syllabus/#homework/).\n",
        "                               \n",
        "I understand that:\n",
        "\n",
        "- I must independently write up solutions to homework problems.\n",
        "    - Failure to do so will result in an academic integrity violation due to plagarism and more severe penalties.\n",
        "- I must list the names of all collaborators that I work with at the top of my homework assignment.\n",
        "- I understand that I can work with **at most** four other students in class. \n",
        "- I must supply my full name and netid at the top of the homework assignments.\n",
        "- I will change the name of the Jupyter Notebook from `hwXX-assign.ipynb` to `hwXX-NetId.ipynb`.\n",
        "- All code cells must be evaluated. \n",
        "- I will turn in my homework by uploading to Canvas.\n",
        "    - There is no paper or e-mail turn-in available. \n",
        "- I understand that at 6:00 PM central time on the day the homework is due my ability to upload the assignment will be disabled\n",
        "    - Any work not in the upload will _not_ be graded.\n",
        "    - Any code cell not run, will not be graded.\n",
        "- I will be able to drop **one** homework assignment over the course of the \n",
        "  semester. \n",
        "- I understand that any academic integrity violations (cheating or assisting others)\n",
        "  will be punished to ensure a fair academic environment for all.\n",
        "  "
      ]
    },
    {
      "cell_type": "markdown",
      "metadata": {
        "id": "NuBbeunWXeLc",
        "colab_type": "text"
      },
      "source": [
        "\n",
        "## [10 points] Exercise 2: Splitting the Bill\n",
        "\n",
        "Develop a function that displays an itemized bill and provides the total a given person must pay.\n",
        "\n",
        "Consider the following bill:\n",
        "\n",
        "- James\n",
        "  - Cold Brew: \\$4.63\n",
        "  - [Beef Bulgogi](https://en.wikipedia.org/wiki/Bulgogi): \\$12.32\n",
        "- Brianna\n",
        "  - Tea: \\$2.55\n",
        "  - Muffin: \\$1.88\n",
        "  - [Poke bowl](https://en.wikipedia.org/wiki/Poke_(Hawaiian_dish)): \\$10.69\n",
        "- Cathy\n",
        "  - [Margarita](https://en.wikipedia.org/wiki/Margarita): \\$8.50\n",
        "\n",
        "Implementation Guidelines:\n",
        "\n",
        "- **Arguments:**\n",
        "    - `x`: data structure holding the above example.\n",
        "    - `first_name`: Obtain the total a given person owes.\n",
        "- **Side-effect:**\n",
        "    - Print an itemized version of the bill by person.\n",
        "- **Return:**\n",
        "    - The total value of all items ordered by requested person.\n",
        "\n",
        "Example of output:\n",
        "\n",
        "```python\n",
        "bill_split(x, \"James\")\n",
        "# Itemized Bill ----\n",
        "# James pays $16.95\n",
        "# * 4.63 for Cold Brew\n",
        "# * 12.32 for Beef Bulgogi\n",
        "# Brianna pays $15.12\n",
        "# * 2.55 for Tea\n",
        "# * 1.88 for Muffin\n",
        "# * 10.69 for Poke Bowl\n",
        "# Cathy pays $8.50\n",
        "# * 8.50 for Margarita\n",
        "# 16.95\n",
        "```\n"
      ]
    },
    {
      "cell_type": "code",
      "metadata": {
        "id": "hVS-ZvlKXdKo",
        "colab_type": "code",
        "outputId": "5eadbeef-6ecd-4130-94f7-0fa16a42ffee",
        "colab": {
          "base_uri": "https://localhost:8080/",
          "height": 204
        }
      },
      "source": [
        "def bill_split(x, first_name):\n",
        "\n",
        "  total = {name : sum(items.values()) for name, items in x.items()} # compute total for each person\n",
        "\n",
        "  print(\"Itemized Bill ----\")\n",
        "\n",
        "  for name in x.keys():\n",
        "\n",
        "    print(\"{0} pays ${1}\".format(name, total[name]))\n",
        "    items = x[name] # get itemized list for each person\n",
        "\n",
        "    for item, price in items.items():\n",
        "\n",
        "      print(\"* {0} for {1}\".format(price, item))\n",
        "\n",
        "  return total[first_name]\n",
        "\n",
        "x = {\n",
        "      \"James\" : {\n",
        "                  \"Cold Brew\" : 4.63,\n",
        "                  \"Beef Bulgogi\" : 12.32\n",
        "                 },\n",
        "     \"Brianna\" : {\n",
        "                  \"Tea\" : 2.55,\n",
        "                  \"Muffin\" : 1.88,\n",
        "                  \"Poke Bowl\" : 10.69\n",
        "                 },\n",
        "     \"Cathy\" : {\n",
        "                  \"Margarita\" : 8.50\n",
        "     }\n",
        "}\n",
        "bill_split(x, \"James\")"
      ],
      "execution_count": 2,
      "outputs": [
        {
          "output_type": "stream",
          "text": [
            "Itemized Bill ----\n",
            "James pays $16.95\n",
            "* 4.63 for Cold Brew\n",
            "* 12.32 for Beef Bulgogi\n",
            "Brianna pays $15.12\n",
            "* 2.55 for Tea\n",
            "* 1.88 for Muffin\n",
            "* 10.69 for Poke Bowl\n",
            "Cathy pays $8.5\n",
            "* 8.5 for Margarita\n"
          ],
          "name": "stdout"
        },
        {
          "output_type": "execute_result",
          "data": {
            "text/plain": [
              "16.95"
            ]
          },
          "metadata": {
            "tags": []
          },
          "execution_count": 2
        }
      ]
    },
    {
      "cell_type": "markdown",
      "metadata": {
        "id": "bUdebDeNXQe6",
        "colab_type": "text"
      },
      "source": [
        "\n",
        "## [5 points] Exercise 3: I _vant_ to manually read your data\n",
        "\n",
        "Consider the following [Fall 2019 Freshman profile](http://dmi.illinois.edu/stuenr/abstracts/FA19freshman_ten.htm) made available by the [Division of Management Information (DMI)](http://dmi.illinois.edu).\n",
        "\n",
        "- **(3 Points)** Translate the table from `markdown` to a pandas `DataFrame`\n",
        "\n",
        "|College               | Number| Percent|\n",
        "|:---------------------|------:|-------:|\n",
        "|Agr, Cons, Env Sci    |    538|   0.070|\n",
        "|Applied Health Sci    |    287|   0.037|\n",
        "|Business              |    591|   0.077|\n",
        "|Education             |    138|   0.018|\n",
        "|Fine & Applied Arts   |    381|   0.050|\n",
        "|General Studies       |   1498|   0.195|\n",
        "|Grainger Engineering  |   1628|   0.212|\n",
        "|Liberal Arts & Sci    |   2411|   0.315|\n",
        "|Media                 |    142|   0.019|\n",
        "|School of Social Work |     51|   0.007|\n",
        "\n",
        "- **(2 Points)** Progmatically, find the maximum number of students"
      ]
    },
    {
      "cell_type": "code",
      "metadata": {
        "id": "yCqdIkN-Y0t9",
        "colab_type": "code",
        "outputId": "43f14571-27e2-4722-c38a-cb62037acd17",
        "colab": {
          "base_uri": "https://localhost:8080/",
          "height": 359
        }
      },
      "source": [
        "freshman_profile = {\n",
        "                    \"College\" : [\"Agr, Cons, Env Sci\", \"Applied Health Sci\", \"Business\",\n",
        "                                 \"Education\", \"Fine & Applied Arts\", \"General Studies\",\n",
        "                                 \"Grainger Engineering\", \"Liberal Arts & Sci\", \"Media\",\n",
        "                                 \"School of Social Work\"],\n",
        "                    \"Number\" : [538, 287, 591, 138, 381, 1498, 1628, 2411, 142, 51],\n",
        "                    \"Percent\" : [0.070, 0.037, 0.077, 0.018, 0.050, 0.195, 0.212, 0.315, 0.019, 0.007]\n",
        "                    }\n",
        "freshman_profile_df = pd.DataFrame(freshman_profile)\n",
        "display(freshman_profile_df)"
      ],
      "execution_count": 3,
      "outputs": [
        {
          "output_type": "display_data",
          "data": {
            "text/html": [
              "<div>\n",
              "<style scoped>\n",
              "    .dataframe tbody tr th:only-of-type {\n",
              "        vertical-align: middle;\n",
              "    }\n",
              "\n",
              "    .dataframe tbody tr th {\n",
              "        vertical-align: top;\n",
              "    }\n",
              "\n",
              "    .dataframe thead th {\n",
              "        text-align: right;\n",
              "    }\n",
              "</style>\n",
              "<table border=\"1\" class=\"dataframe\">\n",
              "  <thead>\n",
              "    <tr style=\"text-align: right;\">\n",
              "      <th></th>\n",
              "      <th>College</th>\n",
              "      <th>Number</th>\n",
              "      <th>Percent</th>\n",
              "    </tr>\n",
              "  </thead>\n",
              "  <tbody>\n",
              "    <tr>\n",
              "      <th>0</th>\n",
              "      <td>Agr, Cons, Env Sci</td>\n",
              "      <td>538</td>\n",
              "      <td>0.070</td>\n",
              "    </tr>\n",
              "    <tr>\n",
              "      <th>1</th>\n",
              "      <td>Applied Health Sci</td>\n",
              "      <td>287</td>\n",
              "      <td>0.037</td>\n",
              "    </tr>\n",
              "    <tr>\n",
              "      <th>2</th>\n",
              "      <td>Business</td>\n",
              "      <td>591</td>\n",
              "      <td>0.077</td>\n",
              "    </tr>\n",
              "    <tr>\n",
              "      <th>3</th>\n",
              "      <td>Education</td>\n",
              "      <td>138</td>\n",
              "      <td>0.018</td>\n",
              "    </tr>\n",
              "    <tr>\n",
              "      <th>4</th>\n",
              "      <td>Fine &amp; Applied Arts</td>\n",
              "      <td>381</td>\n",
              "      <td>0.050</td>\n",
              "    </tr>\n",
              "    <tr>\n",
              "      <th>5</th>\n",
              "      <td>General Studies</td>\n",
              "      <td>1498</td>\n",
              "      <td>0.195</td>\n",
              "    </tr>\n",
              "    <tr>\n",
              "      <th>6</th>\n",
              "      <td>Grainger Engineering</td>\n",
              "      <td>1628</td>\n",
              "      <td>0.212</td>\n",
              "    </tr>\n",
              "    <tr>\n",
              "      <th>7</th>\n",
              "      <td>Liberal Arts &amp; Sci</td>\n",
              "      <td>2411</td>\n",
              "      <td>0.315</td>\n",
              "    </tr>\n",
              "    <tr>\n",
              "      <th>8</th>\n",
              "      <td>Media</td>\n",
              "      <td>142</td>\n",
              "      <td>0.019</td>\n",
              "    </tr>\n",
              "    <tr>\n",
              "      <th>9</th>\n",
              "      <td>School of Social Work</td>\n",
              "      <td>51</td>\n",
              "      <td>0.007</td>\n",
              "    </tr>\n",
              "  </tbody>\n",
              "</table>\n",
              "</div>"
            ],
            "text/plain": [
              "                 College  Number  Percent\n",
              "0     Agr, Cons, Env Sci     538    0.070\n",
              "1     Applied Health Sci     287    0.037\n",
              "2               Business     591    0.077\n",
              "3              Education     138    0.018\n",
              "4    Fine & Applied Arts     381    0.050\n",
              "5        General Studies    1498    0.195\n",
              "6   Grainger Engineering    1628    0.212\n",
              "7     Liberal Arts & Sci    2411    0.315\n",
              "8                  Media     142    0.019\n",
              "9  School of Social Work      51    0.007"
            ]
          },
          "metadata": {
            "tags": []
          }
        }
      ]
    },
    {
      "cell_type": "code",
      "metadata": {
        "id": "8jyzisTJIMl9",
        "colab_type": "code",
        "outputId": "134e8dbf-c7b7-4357-f408-2c57e4b79eb6",
        "colab": {
          "base_uri": "https://localhost:8080/",
          "height": 34
        }
      },
      "source": [
        "max_students = freshman_profile_df[\"Number\"].max()\n",
        "print(\"Max students is {0}\".format(max_students))"
      ],
      "execution_count": 4,
      "outputs": [
        {
          "output_type": "stream",
          "text": [
            "Max students is 2411\n"
          ],
          "name": "stdout"
        }
      ]
    },
    {
      "cell_type": "markdown",
      "metadata": {
        "id": "2XxvUNq9XVuv",
        "colab_type": "text"
      },
      "source": [
        "\n",
        "\n",
        "\n",
        "## [20 points] Exercise 4: Excellency at UIUC\n",
        "\n",
        "Under this exercise, we will explore the \"Teachers Ranked As Excellent\" data\n",
        "at UIUC from Fall 1993 to Summer 2019 as compiled by \n",
        "[Wade Fagen-Ulmschneider](http://waf.cs.illinois.edu/).\n",
        "The data is available from:\n",
        "\n",
        "<https://raw.githubusercontent.com/wadefagen/datasets/master/teachers-ranked-as-excellent/uiuc-tre-dataset.csv> \n",
        "\n",
        "This data has a file extension of **CSV** form. Contained in the data are the following variables:\n",
        "\n",
        "- `term`: Two letter semester code (`sp`, `su`, `fa`, or `wi`) followed by a four digit year.\n",
        "    - Examples: `sp2017`, `fa2013`, `su2012`.\n",
        "- `unit`: The CITL-supplied headers for the unit teaching the course.\n",
        "    - Examples: `ACCOUNTANCY`, `SOCIAL WORK`, `LINGUISTICS`, `NUCLEAR, PLASMA & RAD. ENGR.`\n",
        "- `lname`: The last name of the teacher.\n",
        "    - Examples: `FAGEN-ULMSCHNEIDER`, `FLANAGAN`, `FLECK`\n",
        "- `fname`: The first letter of the first name of the teacher.\n",
        "    - Examples: `W`, `K`, `M`\n",
        "- `role`: `Instructor` or `TA`\n",
        "- `ranking`: `Excellent` or `Outstanding`\n",
        "- `course`: The course the teacher was ranked as excellent.  If no course is given, the `course` field is set to `?` (this includes cases when the raw data lists the course as `0`, `000`, or `999`).\n",
        "    - Examples: `199`, `225`, `560`, `?`\n",
        "\n",
        "**[2 points] (a)** Import into _Python_ the data in `uiuc-tre-dataset.csv`. As `course` denotes a value that is\n",
        "_not_ `NaN`, which is how _Python_ represents missing values, you must use the parameter \n",
        "`na_values = ['NA','?'] ` during the import with pandas.\n",
        "\n",
        "\n"
      ]
    },
    {
      "cell_type": "code",
      "metadata": {
        "id": "JkH5KWBiLtfT",
        "colab_type": "code",
        "colab": {}
      },
      "source": [
        "teachers_data = pd.read_csv(\"https://raw.githubusercontent.com/wadefagen/datasets/master/teachers-ranked-as-excellent/uiuc-tre-dataset.csv\",\n",
        "                            na_values = [\"NA\", \"?\"])"
      ],
      "execution_count": 0,
      "outputs": []
    },
    {
      "cell_type": "markdown",
      "metadata": {
        "id": "RJ9jPs4qH4Xm",
        "colab_type": "text"
      },
      "source": [
        "**[4 points] (b)** Run a summary over the data. Within the summary\n",
        "output, what variable output is different from the rest? What might have caused this?"
      ]
    },
    {
      "cell_type": "code",
      "metadata": {
        "id": "ty5Rxq2MLiNR",
        "colab_type": "code",
        "outputId": "b2e268ea-620c-4775-be6b-9679e61780f3",
        "colab": {
          "base_uri": "https://localhost:8080/",
          "height": 297
        }
      },
      "source": [
        "teachers_data.describe()"
      ],
      "execution_count": 6,
      "outputs": [
        {
          "output_type": "execute_result",
          "data": {
            "text/html": [
              "<div>\n",
              "<style scoped>\n",
              "    .dataframe tbody tr th:only-of-type {\n",
              "        vertical-align: middle;\n",
              "    }\n",
              "\n",
              "    .dataframe tbody tr th {\n",
              "        vertical-align: top;\n",
              "    }\n",
              "\n",
              "    .dataframe thead th {\n",
              "        text-align: right;\n",
              "    }\n",
              "</style>\n",
              "<table border=\"1\" class=\"dataframe\">\n",
              "  <thead>\n",
              "    <tr style=\"text-align: right;\">\n",
              "      <th></th>\n",
              "      <th>course</th>\n",
              "    </tr>\n",
              "  </thead>\n",
              "  <tbody>\n",
              "    <tr>\n",
              "      <th>count</th>\n",
              "      <td>95988.000000</td>\n",
              "    </tr>\n",
              "    <tr>\n",
              "      <th>mean</th>\n",
              "      <td>298.804486</td>\n",
              "    </tr>\n",
              "    <tr>\n",
              "      <th>std</th>\n",
              "      <td>162.970493</td>\n",
              "    </tr>\n",
              "    <tr>\n",
              "      <th>min</th>\n",
              "      <td>2.000000</td>\n",
              "    </tr>\n",
              "    <tr>\n",
              "      <th>25%</th>\n",
              "      <td>142.000000</td>\n",
              "    </tr>\n",
              "    <tr>\n",
              "      <th>50%</th>\n",
              "      <td>260.000000</td>\n",
              "    </tr>\n",
              "    <tr>\n",
              "      <th>75%</th>\n",
              "      <td>429.000000</td>\n",
              "    </tr>\n",
              "    <tr>\n",
              "      <th>max</th>\n",
              "      <td>798.000000</td>\n",
              "    </tr>\n",
              "  </tbody>\n",
              "</table>\n",
              "</div>"
            ],
            "text/plain": [
              "             course\n",
              "count  95988.000000\n",
              "mean     298.804486\n",
              "std      162.970493\n",
              "min        2.000000\n",
              "25%      142.000000\n",
              "50%      260.000000\n",
              "75%      429.000000\n",
              "max      798.000000"
            ]
          },
          "metadata": {
            "tags": []
          },
          "execution_count": 6
        }
      ]
    },
    {
      "cell_type": "markdown",
      "metadata": {
        "id": "3LdJrFlzLi_M",
        "colab_type": "text"
      },
      "source": [
        "Variable difference explanation:\n",
        "\n",
        "Course is the only variable that is outputted, meaning that it is considered a numeric (float or integer) variable type. This is caused by Pandas inference, where it is infering the datatype of this variable is numeric even though it is truly categorical. The true meaning behind this variable is course numbers, so it does not make sense to generate summary statistics on this variable."
      ]
    },
    {
      "cell_type": "markdown",
      "metadata": {
        "id": "TwCg4HiJLIz-",
        "colab_type": "text"
      },
      "source": [
        "**[4 points] (c)** \n",
        "\n",
        "1. Verify that `course` has `NaN` values. \n",
        "2. Perform a median imputation to remove `NaN` values.\n"
      ]
    },
    {
      "cell_type": "code",
      "metadata": {
        "id": "CMCB371fLgvV",
        "colab_type": "code",
        "outputId": "a929e756-9f90-4eaa-adda-f8969168a74d",
        "colab": {
          "base_uri": "https://localhost:8080/",
          "height": 34
        }
      },
      "source": [
        "course_var_nan = teachers_data[\"course\"].isnull().sum()\n",
        "print(\"Course variable has {0} null values\".format(course_var_nan))\n",
        "\n",
        "median_course = teachers_data[\"course\"].median()\n",
        "teachers_data[\"course\"].fillna(median_course, inplace = True)"
      ],
      "execution_count": 7,
      "outputs": [
        {
          "output_type": "stream",
          "text": [
            "Course variable has 1000 null values\n"
          ],
          "name": "stdout"
        }
      ]
    },
    {
      "cell_type": "markdown",
      "metadata": {
        "id": "DFSsD-FpH8dO",
        "colab_type": "text"
      },
      "source": [
        "\n",
        "**[4 points] (d)** \n",
        "\n",
        "1. Who was your favorite teacher at UIUC? Search for them in the list of excellency. \n",
        "  - _Hint_: Search the `lname` variable in the `DataFrame`.\n",
        "  - _Hint_: Make sure to search the _last name_ with capital letters.\n",
        "\n",
        "2. Compute the total number of times they appeared in the excellency ratings.\n",
        "\n"
      ]
    },
    {
      "cell_type": "code",
      "metadata": {
        "id": "NxTvGeKSLdsi",
        "colab_type": "code",
        "outputId": "a68aea43-75bd-4ad8-b48b-9384562c5c47",
        "colab": {
          "base_uri": "https://localhost:8080/",
          "height": 34
        }
      },
      "source": [
        "my_favorite_teacher = teachers_data.loc[teachers_data[\"lname\"] == \"UNGER\"]\n",
        "my_favorite_teacher = my_favorite_teacher.loc[teachers_data[\"fname\"] == \"D\"]\n",
        "favorite_teacher_appearances = my_favorite_teacher.count()[1]\n",
        "print(\"David Unger appeared {0} times in the excellency ratings\".format(favorite_teacher_appearances))"
      ],
      "execution_count": 8,
      "outputs": [
        {
          "output_type": "stream",
          "text": [
            "David Unger appeared 22 times in the excellency ratings\n"
          ],
          "name": "stdout"
        }
      ]
    },
    {
      "cell_type": "markdown",
      "metadata": {
        "colab_type": "text",
        "id": "Xev7Vc4WknDa"
      },
      "source": [
        "**[2 points] (e)** Drop the `fname` column in-place."
      ]
    },
    {
      "cell_type": "code",
      "metadata": {
        "colab_type": "code",
        "id": "nqG30ubcklxz",
        "colab": {}
      },
      "source": [
        "teachers_data.drop(\"fname\", axis = 1, inplace = True)"
      ],
      "execution_count": 0,
      "outputs": []
    },
    {
      "cell_type": "markdown",
      "metadata": {
        "id": "-C8pXVE9VbZg",
        "colab_type": "text"
      },
      "source": [
        "**[2 points] (f)** Split the data into a training and testing data set. The weight should be 65% training and 35% testing."
      ]
    },
    {
      "cell_type": "code",
      "metadata": {
        "id": "8gaT-VyxVbw6",
        "colab_type": "code",
        "colab": {}
      },
      "source": [
        "train = teachers_data.sample(frac = .65, random_state = 27)\n",
        "test = teachers_data.drop(train.index)"
      ],
      "execution_count": 0,
      "outputs": []
    },
    {
      "cell_type": "markdown",
      "metadata": {
        "id": "91EwUGyEJG6s",
        "colab_type": "text"
      },
      "source": [
        "\n",
        "**[2 points] (g)** Create a bar plot on `role` to see the counts of how often a `Instructor` or `TA` make the list."
      ]
    },
    {
      "cell_type": "code",
      "metadata": {
        "id": "LkqUpr44LexD",
        "colab_type": "code",
        "outputId": "6a5b7537-a893-4160-a43c-3deb690be082",
        "colab": {
          "base_uri": "https://localhost:8080/",
          "height": 321
        }
      },
      "source": [
        "teachers_data[\"role\"].value_counts().plot.bar()"
      ],
      "execution_count": 11,
      "outputs": [
        {
          "output_type": "execute_result",
          "data": {
            "text/plain": [
              "<matplotlib.axes._subplots.AxesSubplot at 0x7f8c5f35bba8>"
            ]
          },
          "metadata": {
            "tags": []
          },
          "execution_count": 11
        },
        {
          "output_type": "display_data",
          "data": {
            "image/png": "[encoded data removed]",
            "text/plain": [
              "<Figure size 432x288 with 1 Axes>"
            ]
          },
          "metadata": {
            "tags": []
          }
        }
      ]
    }
  ]
}