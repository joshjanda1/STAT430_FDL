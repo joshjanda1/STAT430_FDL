{
  "nbformat": 4,
  "nbformat_minor": 0,
  "metadata": {
    "colab": {
      "name": "hw02_joshlj2.ipynb",
      "provenance": [],
      "collapsed_sections": []
    },
    "kernelspec": {
      "name": "python3",
      "display_name": "Python 3"
    }
  },
  "cells": [
    {
      "cell_type": "markdown",
      "metadata": {
        "id": "T3tFQhny209q",
        "colab_type": "text"
      },
      "source": [
        "# Overview \n",
        "\n",
        "Please see the [homework policy](https://fdl.thecoatlessprofessor.com/syllabus/#homework)\n",
        "for detailed instructions and some grading notes. Failure to follow instructions\n",
        "will result in point reductions. In particular, make sure to commit each \n",
        "exercise as you complete them. \n",
        "\n",
        "> \"...what we want is a machine that can learn from experience.\"\n",
        "> \n",
        "> -- Alan Turing, 1947\n",
        "\n",
        "## Grading\n",
        "\n",
        "The rubric CAs will use to grade this assignment is:\n",
        "\n",
        "| Task                                                   | Pts |\n",
        "|:-------------------------------------------------------|----:|\n",
        "| Activated                                              | 12  |\n",
        "| Descending MLR .                                       | 20  |\n",
        "| Make a Plan                                            | 15  |\n",
        "| Neuron by Hand                                         | 14  |\n",
        "| Total                                                  | 61  |\n",
        "\n",
        "\n",
        "## Objectives \n",
        "\n",
        "The objectives behind this homework assignment are as follows:\n",
        "\n",
        "- Implement functions in Python;\n",
        "- Viewing differences in activation functions;\n",
        "- Applying gradient descent; and,\n",
        "- Constructing neural networks.\n"
      ]
    },
    {
      "cell_type": "markdown",
      "metadata": {
        "id": "_RoKiU973P7s",
        "colab_type": "text"
      },
      "source": [
        "# Assignment - Homework 2\n",
        "STAT 430 - FDL, Spring 2020\n",
        "\n",
        "Due: **Friday, February 21st, 2020 at 6:00 PM**\n",
        "\n",
        "- **Author:** Josh Janda\n",
        "- **NetID:** joshlj2\n",
        "\n",
        "### Collaborators\n",
        "\n",
        "If you worked with any other student in preparing these answers, please\n",
        "make sure to list their full names and NetIDs (e.g. `FirstName LastName (NetID)` ).\n"
      ]
    },
    {
      "cell_type": "code",
      "metadata": {
        "id": "xoJQ__o-3cdO",
        "colab_type": "code",
        "outputId": "996ac575-5521-49a1-cac4-6ae8d0034d18",
        "colab": {
          "base_uri": "https://localhost:8080/",
          "height": 102
        }
      },
      "source": [
        "print(\"Diagnostics: \")\n",
        "\n",
        "try:\n",
        "  from google.colab import drive\n",
        "  is_google_colab = True\n",
        "  import sys\n",
        "  import pandas as pd\n",
        "  import numpy as np\n",
        "  import matplotlib.pyplot as plt\n",
        "\n",
        "  print(f\"python: {sys.version}\")\n",
        "  print(f\"pandas: {np.__version__}\")\n",
        "  print(\"Notebook is on Google CoLab\")\n",
        "except:\n",
        "  is_google_colab = False\n",
        "  print(\"Notebook is being run locally or through another source.\")"
      ],
      "execution_count": 1,
      "outputs": [
        {
          "output_type": "stream",
          "text": [
            "Diagnostics: \n",
            "python: 3.6.9 (default, Nov  7 2019, 10:44:02) \n",
            "[GCC 8.3.0]\n",
            "pandas: 1.17.5\n",
            "Notebook is on Google CoLab\n"
          ],
          "name": "stdout"
        }
      ]
    },
    {
      "cell_type": "markdown",
      "metadata": {
        "id": "OaHGju8mV4ER",
        "colab_type": "text"
      },
      "source": [
        "## [12 points] Exercise 1 - Activated\n",
        "\n",
        "**(a) (4 points)** During lecture, we claimed that the `tanh(x)` is underpinned by the sigmoid activation function. Given that:\n",
        "\n",
        "$$\n",
        "\\begin{align}\n",
        "\\sigma(x) &= \\frac{ e^x }{1 + e^x} = \\frac{ 1 }{1 + e^{-x}} \\\\\n",
        "\\tanh(x) &= \\frac{e^x – e^{-x}}{e^x + e^{-x}} \n",
        "\\end{align}\n",
        "$$\n",
        "\n",
        "Show that:\n",
        "\n",
        "$$\\tanh(x) = 2 \\sigma(2x) - 1$$\n"
      ]
    },
    {
      "cell_type": "markdown",
      "metadata": {
        "id": "v_pu8Dsd31Bz",
        "colab_type": "text"
      },
      "source": [
        "For starters, we must manipulate the tanh(x) equation using the sigma equation.\n",
        "</br>\n",
        "$$2\\sigma(2x) - 1 = \\frac{2}{1 + e^{-2x}} - 1 = \\frac{2}{1 + e^{-2x}} - \\frac{1 + e^{-2x}}{1 + e^{-2x}} = \\frac{2 - (1 + e^{-2x})}{1 + e^{-2x}}$$\n",
        "</br>\n",
        "Continuing...\n",
        "</br>\n",
        "\n",
        "$$\\frac{2 - (1 + e^{-2x})}{1 + e^{-2x}} = \\frac{1 - e^{-2x}}{1 + e^{-2x}} = \\frac{1 - e^{-x}e^{-x}}{1 + e^{-x}e^{-x}} = \\frac{\\frac{1}{e^{-x}}*1 - e^{-x}e^{-x}*\\frac{1}{e^{-x}}}{\\frac{1}{e^{-x}}*1 + e^{-x}e^{-x}*\\frac{1}{e^{-x}}}$$\n",
        "</br>\n",
        "Continuing...\n",
        "</br>\n",
        "\n",
        "$$\\frac{\\frac{1}{e^{-x}}*1 - e^{-x}e^{-x}*\\frac{1}{e^{-x}}}{\\frac{1}{e^{-x}}*1 + e^{-x}e^{-x}*\\frac{1}{e^{-x}}} = \\frac{\\frac{1}{e^{-x}} - e^{-x}}{\\frac{1}{e^{-x}} + e^{-x}} = \\frac{e^x - e^{-x}}{e^x + e^{-x}}$$\n",
        "\n",
        "</br>\n",
        "\n",
        "So, as shown above, $tanh(x) = 2\\sigma(2x) - 1$.\n"
      ]
    },
    {
      "cell_type": "markdown",
      "metadata": {
        "id": "L6gzZPPTBDLP",
        "colab_type": "text"
      },
      "source": [
        "\n",
        "**(b) (2 points)** Consider the _Exponential Linear Unit_ ('ELU') activation function:\n",
        "\n",
        "$$g(x) = \\max{\\left({\\alpha(\\exp x - 1), x)}\\right)}, \\alpha \\ge 0 $$\n",
        "\n",
        "Implement ELU as a function in Python that uses NumPy's vectorization abilities.\n",
        "\n",
        "Implementation Guidelines:\n",
        "\n",
        "- **Arguments:**\n",
        "    - `x`: A vector of values to \"activate\".\n",
        "    - `alpha`: Scale for the negative factor.\n",
        "- **Return:**\n",
        "    - A vector with each element \"activated\"."
      ]
    },
    {
      "cell_type": "code",
      "metadata": {
        "id": "tAKFIutdBFnS",
        "colab_type": "code",
        "colab": {}
      },
      "source": [
        "def elu(x, alpha = 1):\n",
        "\n",
        "  activation = np.where(x > 0, x, alpha * (np.exp(x) - 1))\n",
        "\n",
        "  return activation"
      ],
      "execution_count": 0,
      "outputs": []
    },
    {
      "cell_type": "markdown",
      "metadata": {
        "id": "u6rmd6A7CPoN",
        "colab_type": "text"
      },
      "source": [
        "**(c) (3 points)** Graph the ELU activation function with varying values for $\\alpha$.  How does the graph change?"
      ]
    },
    {
      "cell_type": "code",
      "metadata": {
        "id": "-GPPHfWDCP4R",
        "colab_type": "code",
        "outputId": "cf39bacd-bfb7-4d26-ae05-5ecaa89435eb",
        "colab": {
          "base_uri": "https://localhost:8080/",
          "height": 279
        }
      },
      "source": [
        "x = np.linspace(-10, 10, num = 250)\n",
        "\n",
        "alphas = np.linspace(0, 1, num = 5)\n",
        "\n",
        "colors = ['#C7980A', '#F4651F', '#82D8A7', '#CC3A05', '#575E76']\n",
        "\n",
        "for i, alpha in enumerate(alphas):\n",
        "\n",
        "  activated_x = elu(x, alpha)\n",
        "  plt.plot(x, activated_x, color = colors[i], label = \"Activated X Values, Alpha = {0}\".format(alpha))\n",
        "\n",
        "plt.xlabel(\"Original Values\")\n",
        "plt.ylabel(\"Activated Values\")\n",
        "plt.legend()\n",
        "plt.show()"
      ],
      "execution_count": 3,
      "outputs": [
        {
          "output_type": "display_data",
          "data": {
            "image/png": "[encoded data removed]",
            "text/plain": [
              "<Figure size 432x288 with 1 Axes>"
            ]
          },
          "metadata": {
            "tags": []
          }
        }
      ]
    },
    {
      "cell_type": "markdown",
      "metadata": {
        "id": "F3clxg8jxW6y",
        "colab_type": "text"
      },
      "source": [
        "Looking at the graph above, we can see that as alpha is increases the activated values given x is negative get farther from zero. As alpha gets closer to zero, the activated negative x values get closer to zero (when alpha is 0, ELU is functionally the same as ReLU). So, increasing the alpha value changes how the ELU function activates the negative original values."
      ]
    },
    {
      "cell_type": "markdown",
      "metadata": {
        "id": "G9cvcCaxBEbm",
        "colab_type": "text"
      },
      "source": [
        "**(d) (3 points)** Graph the ELU activation function alongside `sigmoid()`, `tanh()`, `relu()`, and `leaky_relu()`. How does it differ when compared to the others?"
      ]
    },
    {
      "cell_type": "code",
      "metadata": {
        "id": "xItjlSrHBGfV",
        "colab_type": "code",
        "outputId": "ed734f06-0aeb-4ec3-87a0-2054376bedc5",
        "colab": {
          "base_uri": "https://localhost:8080/",
          "height": 279
        }
      },
      "source": [
        "def sigmoid(x):\n",
        "\n",
        "  return 1 / (1 + np.exp(-x))\n",
        "\n",
        "def tanh(x):\n",
        "\n",
        "  return (2 / (1 + np.exp(-2*x))) - 1\n",
        "\n",
        "def relu(x):\n",
        "\n",
        "  return np.maximum(0, x)\n",
        "\n",
        "def leaky_relu(x):\n",
        "\n",
        "  return np.where(x > 0 , x, .01 * x)\n",
        "\n",
        "activations = [sigmoid, tanh, relu, leaky_relu, elu]\n",
        "colors = ['orange', 'blue', 'red', 'green', 'black']\n",
        "\n",
        "for color, activation in zip(colors, activations):\n",
        "  \n",
        "  activated_x = activation(x)\n",
        "\n",
        "  plt.plot(x, activated_x, color = color, label = \"{0}\".format(activation.__name__))\n",
        "\n",
        "plt.xlabel(\"Original Values\")\n",
        "plt.ylabel(\"Activated Values\")\n",
        "plt.legend()\n",
        "plt.show()"
      ],
      "execution_count": 4,
      "outputs": [
        {
          "output_type": "display_data",
          "data": {
            "image/png": "[encoded data removed]",
            "text/plain": [
              "<Figure size 432x288 with 1 Axes>"
            ]
          },
          "metadata": {
            "tags": []
          }
        }
      ]
    },
    {
      "cell_type": "markdown",
      "metadata": {
        "id": "XITekOp_BHf5",
        "colab_type": "text"
      },
      "source": [
        "Looking at the graph above, when comparing ELU to other activation functions, ELU performs similar to the tanh function for negative x values and exactly like leaky_relu and relu for non-negative values (using the default value of $\\alpha = 1$). This is due to the exponential component for when x < 0, and the linear component for when x > 0. ELU seems to have a similar idea to leaky_relu for preventing dying/vanishing gradients, but instead of multiplying by a constant you use an exponential type of function that is similar to tanh."
      ]
    },
    {
      "cell_type": "markdown",
      "metadata": {
        "id": "rWVLCAyv6bkE",
        "colab_type": "text"
      },
      "source": [
        "## [20 points] Exercise 2 - Descending MLR\n",
        "\n",
        "The objective of this question is to construct a shallow neural network that is updated using gradient descent.\n",
        "\n",
        "**(a) (4 points)** Design and implement a function that randomly generates a set of data and predictions for linear regression given dimensions and parameter values. Make sure to add \"noise\" to the predictions to avoid having a perfectly linear relationship and ensure that the first column of the design matrix contains only the value **1** so that the model has an intercept term.\n",
        "\n",
        "$$\\boldsymbol{Y} = \\boldsymbol{X}\\boldsymbol{\\beta} + \\boldsymbol{\\varepsilon}$$\n",
        "\n",
        "Implementation Guidelines:\n",
        "\n",
        "- **Arguments:**\n",
        "    - `n`: Number of Observations\n",
        "    - `theta`: A vector of true parameter values up to `p`.\n",
        "    - `noise`: A single value that adds distortion. \n",
        "    - `seed`: Value to generate the data under. \n",
        "- **Return:**\n",
        "    - `X` the design matrix of dimensions `n x (p + 1)`, with the first column a series of 1s. \n",
        "    - `y` the values observed with added noise.\n",
        "\n",
        "_Hints:_\n",
        "\n",
        "- NumPy has a built in way of generating random data with [`np.random.randn(n, p)`](https://docs.scipy.org/doc/numpy-1.15.1/reference/generated/numpy.random.randn.html)\n",
        "- Moreover, to add a column, consider using [`np.append(new_col, data, 1)`](https://docs.scipy.org/doc/numpy/reference/generated/numpy.append.html).\n",
        "\n",
        "\n",
        "**Note:** _Python_ allows a function to return multiple values by having them prefixed by a comma `,` in the `return` statement. E.g. `return x1, x2` would return both `x1` and `x2`. These values may be unpacked and assigned individually on the same line as a function call:\n",
        "\n",
        "```\n",
        "x_v1, x_v2 = my_function()\n",
        "```\n",
        "\n"
      ]
    },
    {
      "cell_type": "code",
      "metadata": {
        "id": "pm-Eyk11LPTA",
        "colab_type": "code",
        "colab": {}
      },
      "source": [
        "def generate_data(n, theta, noise, seed):\n",
        "\n",
        "  np.random.seed(seed = seed)\n",
        "  X = np.column_stack((np.ones(n), np.random.randn(n, len(theta) - 1)))\n",
        "  y = X @ theta + noise\n",
        "  \n",
        "  return X, y"
      ],
      "execution_count": 0,
      "outputs": []
    },
    {
      "cell_type": "markdown",
      "metadata": {
        "id": "2_81cENrMzDf",
        "colab_type": "text"
      },
      "source": [
        "**(b) (2 points)** Create a function for obtain multiple linear regression predictions.\n",
        "\n",
        "Implementation Guidelines:\n",
        "\n",
        "- **Arguments:**\n",
        "    - `X`: A design matrix of dimension `n x p`\n",
        "    - `y`: Vector containing the actual values `n`.\n",
        "- **Return:**\n",
        "    - A vector of prediction length `n`.\n",
        "\n"
      ]
    },
    {
      "cell_type": "code",
      "metadata": {
        "id": "OGc3dttoZd2G",
        "colab_type": "code",
        "colab": {}
      },
      "source": [
        "def generate_predictions(X, theta):\n",
        "\n",
        "  X @ theta\n",
        "\n",
        "  return X @ theta"
      ],
      "execution_count": 0,
      "outputs": []
    },
    {
      "cell_type": "markdown",
      "metadata": {
        "id": "sKg3A3uSLO40",
        "colab_type": "text"
      },
      "source": [
        "**(c) (2 points)** Implement the mean squared error cost function for multiple linear regression in Python.\n",
        "\n",
        "Implementation Guidelines:\n",
        "\n",
        "- **Arguments:**\n",
        "    - `X`: A design matrix of dimension `n x p`\n",
        "    - `y`: Vector containing the actual values `n`.\n",
        "    - `theta`: A vector of parameter estimates `p`.\n",
        "- **Return:**\n",
        "    - Single value of cost."
      ]
    },
    {
      "cell_type": "code",
      "metadata": {
        "id": "adGDoVVFMGH6",
        "colab_type": "code",
        "colab": {}
      },
      "source": [
        "def mean_squared_error(X, y, theta):\n",
        "\n",
        "  predictions = X @ theta\n",
        "\n",
        "  mse = np.sum((y - predictions)**2) / y.shape[0]\n",
        "\n",
        "  return mse"
      ],
      "execution_count": 0,
      "outputs": []
    },
    {
      "cell_type": "markdown",
      "metadata": {
        "id": "NOaEK_UNZft1",
        "colab_type": "text"
      },
      "source": [
        "**(d) (8 points)** Build a function that performs gradient descent for multiple linear regression across all parameters.\n",
        "\n",
        "That is, compute:\n",
        "\n",
        "$$\\theta_j := \\theta_j - \\alpha \\frac{\\partial }{\\partial \\theta_j} J(\\theta_0, \\theta_1, \\cdots, \\theta_p)$$\n",
        "\n",
        "where:\n",
        "\n",
        "$$\\frac{\\partial }{\\partial \\theta_j} J(\\theta_0, \\theta_1, \\cdots, \\theta_p) = \\frac{1}{n} \\sum_{i=1}^n \\left({ x_{ij} \\theta_j  - y_i}\\right)x_{ij}$$\n",
        "\n",
        "Implementation Guidelines:\n",
        "\n",
        "- **Arguments:**\n",
        "    - `X`: A design matrix of dimension `n x p`\n",
        "    - `y`: Vector containing the actual values `n`.\n",
        "    - `theta`: A vector of parameter estimates `p`.\n",
        "    - `alpha`: The learning rate for the problem. \n",
        "     - Default: `0.0001`\n",
        "    -  `epochs`: Number of times to run gradient descent\n",
        "- **Return:**\n",
        "    - `theta_hat`: The estimated values for the parameters.\n",
        "    - `cost`: Final cost value."
      ]
    },
    {
      "cell_type": "code",
      "metadata": {
        "id": "OaSOWMiSZfaj",
        "colab_type": "code",
        "colab": {}
      },
      "source": [
        "def fit_model(X, y, theta, epochs, alpha = .0001):\n",
        "\n",
        "  for epoch in range(epochs):\n",
        "    \n",
        "    n = y.shape[0]\n",
        "    predictions = generate_predictions(X, theta)\n",
        "    preds_minus_y = (predictions - y).reshape(-1, 1)\n",
        "    theta = theta - (alpha / n) * (X * (preds_minus_y)).sum(axis = 0)\n",
        "    cost = mean_squared_error(X, y, theta)\n",
        "\n",
        "    if epoch % 1000 == 0:\n",
        "      print(\"Epoch: {0} - Current Cost: {1}\".format(epoch, cost))\n",
        "\n",
        "  theta_hat = theta\n",
        "  return theta_hat, cost"
      ],
      "execution_count": 0,
      "outputs": []
    },
    {
      "cell_type": "markdown",
      "metadata": {
        "id": "gKnGZ8TefMPx",
        "colab_type": "text"
      },
      "source": [
        "**(e) (4 points)** With the functions in hand, attempt to perform an estimation under conditions:\n",
        "\n",
        "_Scenario 1_:\n",
        "\n",
        "$$\n",
        "\\begin{align}\n",
        "\\theta_0 &= -2.8, \\theta_1 = 1.5\\\\\n",
        "n &= 250, epoch = 500 \\\\\n",
        "\\end{align}\n",
        "$$\n",
        "\n",
        "_Scenario 2_:\n",
        "\n",
        "$$\n",
        "\\begin{align}\n",
        "\\theta_0 &= 0.5, \\theta_1 = -1, \\theta_2 = 2.3 \\\\\n",
        "n &= 100, epoch = 500 \\\\\n",
        "\\end{align}\n",
        "$$\n",
        "\n",
        "**For reproducibility, set a seed using the last four digits of your UIN.**"
      ]
    },
    {
      "cell_type": "code",
      "metadata": {
        "id": "EHcmy7v58zQU",
        "colab_type": "code",
        "outputId": "8db2fae5-0de3-4434-d128-fbd3ab2e70ff",
        "colab": {
          "base_uri": "https://localhost:8080/",
          "height": 221
        }
      },
      "source": [
        "np.random.seed(seed = 8173)\n",
        "X_scen1, y_scen1 = generate_data(250, np.array([-2.8, 1.5]), np.random.randn(1), seed = 8173)\n",
        "X_scen2, y_scen2 = generate_data(100, np.array([0.5, -1, 2.3]), np.random.randn(1), seed = 8173)\n",
        "\n",
        "print(\"Starting Scenario 1...\")\n",
        "theta_hat_scen1, final_cost_scen1 = fit_model(X_scen1, y_scen1, theta = np.random.randn((2)), epochs = 5000) # increased epochs to 5000 by James advice..\n",
        "print(\"Starting Scenario 2...\")\n",
        "theta_hat_scen2, final_cost_scen2 = fit_model(X_scen2, y_scen2, theta = np.random.randn((3)), epochs = 5000) # increased epochs to 5000 by James advice.."
      ],
      "execution_count": 10,
      "outputs": [
        {
          "output_type": "stream",
          "text": [
            "Starting Scenario 1...\n",
            "Epoch: 0 - Current Cost: 7.140942669291438\n",
            "Epoch: 1000 - Current Cost: 5.850304395471624\n",
            "Epoch: 2000 - Current Cost: 4.793020846356729\n",
            "Epoch: 3000 - Current Cost: 3.926883758024069\n",
            "Epoch: 4000 - Current Cost: 3.217322398656408\n",
            "Starting Scenario 2...\n",
            "Epoch: 0 - Current Cost: 23.844585560675032\n",
            "Epoch: 1000 - Current Cost: 19.06542114110347\n",
            "Epoch: 2000 - Current Cost: 15.250984572839764\n",
            "Epoch: 3000 - Current Cost: 12.205144330474695\n",
            "Epoch: 4000 - Current Cost: 9.771926283558885\n"
          ],
          "name": "stdout"
        }
      ]
    },
    {
      "cell_type": "code",
      "metadata": {
        "id": "kTSqlmlF42Br",
        "colab_type": "code",
        "outputId": "f6df3ea1-da1a-4b8a-e379-5c49aebcd503",
        "colab": {
          "base_uri": "https://localhost:8080/",
          "height": 51
        }
      },
      "source": [
        "print(\"Scenario 1 Theta Hat Values: {0} -- Final Cost: {1}\".format(theta_hat_scen1, final_cost_scen1))\n",
        "print(\"Scenario 2 Theta Hat Values: {0} -- Final Cost: {1}\".format(theta_hat_scen2, final_cost_scen2))"
      ],
      "execution_count": 11,
      "outputs": [
        {
          "output_type": "stream",
          "text": [
            "Scenario 1 Theta Hat Values: [-1.7012255  0.2613319] -- Final Cost: 2.636546324346386\n",
            "Scenario 2 Theta Hat Values: [ 0.92631801 -0.09939461  1.65888711] -- Final Cost: 7.828969194209204\n"
          ],
          "name": "stdout"
        }
      ]
    },
    {
      "cell_type": "markdown",
      "metadata": {
        "id": "svQEvxKB69Gb",
        "colab_type": "text"
      },
      "source": [
        "The final cost for scenario 1 is 2.636 and 7.829 for scenario 2. While these final costs are pretty low, they can definitely be improved.\n",
        "\n",
        "Judging by our estimates of theta compared to the true values, is obvious that either we need to increase the number of epochs or the learning rate. Having a learning rate of .0001 is incredibly small for multiple linear regression, and can definitely be increased to about .01 for quicker convergence. This is due to multiple linear regression equations having a bowl shaped gradient, so using a higher learning rate will result in a quicker convergence to the global minimum without the risk of skipping over."
      ]
    },
    {
      "cell_type": "code",
      "metadata": {
        "id": "RtYbiS3L7gK0",
        "colab_type": "code",
        "outputId": "e7dbd585-d080-4043-8509-b2d7d7e4dec5",
        "colab": {
          "base_uri": "https://localhost:8080/",
          "height": 85
        }
      },
      "source": [
        "print(\"Starting Scenario 1 w/ Alpha = .01...\")\n",
        "theta_hat_scen12, final_cost_scen12 = fit_model(X_scen1, y_scen1, theta = np.random.randn((2)), epochs = 500, alpha = .01)\n",
        "print(\"Starting Scenario 2 w/ Alpha = .01...\")\n",
        "theta_hat_scen22, final_cost_scen22 = fit_model(X_scen2, y_scen2, theta = np.random.randn((3)), epochs = 500, alpha = .01)"
      ],
      "execution_count": 12,
      "outputs": [
        {
          "output_type": "stream",
          "text": [
            "Starting Scenario 1 w/ Alpha = .01...\n",
            "Epoch: 0 - Current Cost: 7.5365325815421045\n",
            "Starting Scenario 2 w/ Alpha = .01...\n",
            "Epoch: 0 - Current Cost: 27.511497118403835\n"
          ],
          "name": "stdout"
        }
      ]
    },
    {
      "cell_type": "code",
      "metadata": {
        "id": "_sOeZu-87wIz",
        "colab_type": "code",
        "outputId": "59fad63f-aae5-45ed-e9dd-7b1c3fa3e6ed",
        "colab": {
          "base_uri": "https://localhost:8080/",
          "height": 51
        }
      },
      "source": [
        "print(\"Scenario 1 Theta Hat Values: {0} -- Final Cost: {1}\".format(theta_hat_scen12, final_cost_scen12))\n",
        "print(\"Scenario 2 Theta Hat Values: {0} -- Final Cost: {1}\".format(theta_hat_scen22, final_cost_scen22))"
      ],
      "execution_count": 13,
      "outputs": [
        {
          "output_type": "stream",
          "text": [
            "Scenario 1 Theta Hat Values: [-2.73893314  1.50136693] -- Final Cost: 0.00030448200307358107\n",
            "Scenario 2 Theta Hat Values: [ 3.33395241 -1.00467155  2.30144193] -- Final Cost: 0.00048268794448859864\n"
          ],
          "name": "stdout"
        }
      ]
    },
    {
      "cell_type": "markdown",
      "metadata": {
        "id": "IHGsmNih8SyC",
        "colab_type": "text"
      },
      "source": [
        "Looking at the results above, I get much smaller final costs when using a larger learning rate. I also obtain theta estimates much closer to the true values.\n",
        "\n",
        "Overall, this experiment has shown that learning rate and epochs are a tuneable parameter and can have a great effect on your estimates."
      ]
    },
    {
      "cell_type": "markdown",
      "metadata": {
        "id": "N6M2KBJC4-V5",
        "colab_type": "text"
      },
      "source": [
        "## [15 points] Exercise 3 - Make a Plan\n",
        "\n"
      ]
    },
    {
      "cell_type": "markdown",
      "metadata": {
        "id": "ApHRUbf79TLU",
        "colab_type": "text"
      },
      "source": [
        "Consider a neural network being built to classify color images of size 4 x 3 x 3 into 4 different categories. The architecture of the network has two hidden layers with 5 nodes in the first and 3 nodes in second layer.\n",
        "\n",
        "**(a) (5 Points)** Sketch the network with all connections. Make sure to include bias nodes for each layer.\n",
        "\n",
        "**(b) (10 Points)** Write the equations for each layer of the neural network. Make sure to specify the dimensions expected for each equation."
      ]
    },
    {
      "cell_type": "markdown",
      "metadata": {
        "id": "Grw-rR8dTnCS",
        "colab_type": "text"
      },
      "source": [
        "![](https://i.imgur.com/vS37Heo.jpg)"
      ]
    },
    {
      "cell_type": "markdown",
      "metadata": {
        "id": "09kIrUf3Tpc5",
        "colab_type": "text"
      },
      "source": [
        "Layer 1:\n",
        "\n",
        "Note that superscript is layer number and subscript is matrix dimensions.\n",
        "\n",
        "X must be flattened into a m x 36 matrix in order to feed into fully connected nodes.\n",
        "\n",
        "$$Z^{(1)}_{(m, 5)} = X_{(m, 36)}W^{(1)}_{(36, 5)} + b^{(1)}_{(m, 5)}$$\n",
        "$$a^{(1)}_{(m, 5)} = g(Z^{(1)}_{(m, 5)})$$\n",
        "\n",
        "Layer 2:\n",
        "\n",
        "$$Z^{(2)}_{(m, 3)} = a^{(1)}_{(m, 5)}W^{(2)}_{(5, 3)} + b^{(2)}_{(m, 3)}$$\n",
        "$$a^{(2)}_{(m, 3)} = g(Z^{(2)}_{(m, 3)})$$\n",
        "\n",
        "Layer 3 (output layer):\n",
        "\n",
        "$$Z^{(3)}_{(m, 4)} = a^{(2)}_{(m, 3)} W^{(3)}_{(3, 4)}+ b^{(3)}_{(m, 4)}$$\n",
        "$$a^{(3)}_{(m, 4)} = g(Z^{(3)}_{(m, 4)}) = \\hat y_{(m, 4)}$$"
      ]
    },
    {
      "cell_type": "markdown",
      "metadata": {
        "id": "n5GHp5LOT_KQ",
        "colab_type": "text"
      },
      "source": [
        "## [14 Points] Exercise 4 - Neuron by Hand\n",
        "\n",
        "Consider a single neuron that takes $z = b + w_1 x_1 + w_2 x_2$ and has an activation function of $ReLU(z)$.\n",
        "\n",
        "**(a) (6 Points)** Sketch out a computational graph that shows how the computation is being performed.\n",
        "\n",
        "**(b) (2 Points)** Perform a forward propagation step given data:\n",
        "\n",
        "$$\n",
        "\\begin{align}\n",
        "b &= 1.2 \\\\\n",
        "w_1 &= 0.3, w_2 = 0.5 \\\\\n",
        "x_1 &= 1, x_2 = 2 \\\\\n",
        "\\end{align}\n",
        "$$\n",
        "\n",
        "**(c) (6 Points)** Compute the partial derivatives for backward propagation."
      ]
    },
    {
      "cell_type": "markdown",
      "metadata": {
        "id": "RibUc3pRMf5m",
        "colab_type": "text"
      },
      "source": [
        "![](https://i.imgur.com/F0uYzK1.jpg)"
      ]
    },
    {
      "cell_type": "markdown",
      "metadata": {
        "id": "n1B4Skt5iitV",
        "colab_type": "text"
      },
      "source": [
        "![](https://drive.google.com/open?id=1dqn0IJyY0dChFIfHVbfvJ4OQQIuiHyST)"
      ]
    }
  ]
}